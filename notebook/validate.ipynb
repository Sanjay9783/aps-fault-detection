{
 "cells": [
  {
   "cell_type": "code",
   "execution_count": 1,
   "metadata": {},
   "outputs": [],
   "source": [
    "import numpy as np\n",
    "import pandas as pd\n",
    "from scipy import stats\n",
    "\n",
    "rng = np.random.default_rng()\n",
    "sample1 = stats.uniform.rvs(size=100, random_state=rng)\n",
    "sample2 = stats.norm.rvs(size=110, random_state=rng)\n",
    "response = stats.ks_2samp(sample1, sample2)"
   ]
  },
  {
   "cell_type": "code",
   "execution_count": 2,
   "metadata": {},
   "outputs": [
    {
     "data": {
      "text/plain": [
       "array([0.22138703, 0.34069846, 0.25643609, 0.09828976, 0.23915159,\n",
       "       0.90832587, 0.94412156, 0.89445831, 0.1764104 , 0.13508948,\n",
       "       0.55538673, 0.19161622, 0.88934169, 0.45178561, 0.17921094,\n",
       "       0.30010714, 0.77964506, 0.53337437, 0.91548414, 0.86739691,\n",
       "       0.23852329, 0.60283736, 0.20049503, 0.40620577, 0.54474881,\n",
       "       0.88787967, 0.98997229, 0.09434407, 0.24659351, 0.44192054,\n",
       "       0.56275801, 0.9217878 , 0.71545576, 0.49028562, 0.04883704,\n",
       "       0.82670866, 0.58059401, 0.68054195, 0.79614678, 0.97313834,\n",
       "       0.1448878 , 0.61610896, 0.14515817, 0.88090671, 0.01490781,\n",
       "       0.87432451, 0.86573341, 0.37526334, 0.63648219, 0.1369678 ,\n",
       "       0.19502525, 0.64666861, 0.115357  , 0.86600333, 0.37517526,\n",
       "       0.8663552 , 0.39769091, 0.14291298, 0.08327757, 0.76966708,\n",
       "       0.68572131, 0.0578683 , 0.69524619, 0.14079131, 0.14753518,\n",
       "       0.51525664, 0.26842235, 0.55213666, 0.01516725, 0.44805599,\n",
       "       0.05949004, 0.33556768, 0.74751089, 0.76730228, 0.88052572,\n",
       "       0.98537967, 0.46184387, 0.19899847, 0.65785168, 0.88698332,\n",
       "       0.86928436, 0.05521746, 0.84906263, 0.94991123, 0.20632653,\n",
       "       0.11916972, 0.85927153, 0.27233954, 0.57574004, 0.11155074,\n",
       "       0.08528503, 0.77492571, 0.58831019, 0.05132542, 0.96653565,\n",
       "       0.96955062, 0.05828297, 0.11591544, 0.99219849, 0.53883919])"
      ]
     },
     "execution_count": 2,
     "metadata": {},
     "output_type": "execute_result"
    }
   ],
   "source": [
    "sample1"
   ]
  },
  {
   "cell_type": "code",
   "execution_count": 3,
   "metadata": {},
   "outputs": [
    {
     "data": {
      "text/plain": [
       "array([ 1.91129556,  0.78126287, -0.21769622, -0.91193   ,  1.19148805,\n",
       "        0.09334794,  1.6187861 ,  0.75742827,  0.47061309,  0.21491064,\n",
       "        1.97345032,  1.75328979, -0.44899367,  0.1884733 , -1.2253716 ,\n",
       "        1.32281212, -0.37264717, -0.75456958,  1.68893022, -0.67481086,\n",
       "        1.57277645,  2.00712153, -0.19170576, -1.30570824, -0.40026492,\n",
       "       -0.25157472, -0.83033583,  0.97409653, -0.20907166, -1.37498686,\n",
       "       -0.33375344,  0.83950258, -0.71383729,  0.78238497,  0.14548978,\n",
       "       -0.73518511,  1.48475038,  0.00935831,  0.04128315, -2.47172705,\n",
       "       -2.22277331, -0.21958875,  1.75990119, -0.78392767, -0.93170337,\n",
       "        0.47443285, -0.4979177 , -0.12057924, -0.00802732, -1.04664995,\n",
       "        1.71433109, -1.32749756,  2.43130011, -0.66682442, -1.02347637,\n",
       "       -0.76122571,  0.47241285, -0.22899192, -0.36859574,  0.31829808,\n",
       "        1.32047744,  1.32515209, -1.05897127, -1.00147187, -0.53458041,\n",
       "       -1.98162055,  0.18927319, -0.82140735, -0.21574419,  0.97524454,\n",
       "       -0.44552441, -1.42430998, -0.3114137 ,  1.12598036,  0.24318639,\n",
       "       -0.09016873,  0.23401412, -0.14589273, -1.31410299,  0.86307269,\n",
       "        1.44593197,  0.33454934, -1.66903773,  0.9654283 , -0.02901477,\n",
       "       -1.73065006, -0.22876438, -0.22131159, -2.00038414, -0.73855156,\n",
       "        2.00072507,  0.26857244,  0.38318579,  0.70074797, -0.24355327,\n",
       "        1.07702212,  0.9304811 ,  0.51807401,  0.68600574, -0.2980347 ,\n",
       "       -0.07859387,  0.04594463,  1.66203098, -0.53201666, -1.02650772,\n",
       "       -2.73346746,  0.15886367, -0.18945538,  0.1699742 ,  0.46278588])"
      ]
     },
     "execution_count": 3,
     "metadata": {},
     "output_type": "execute_result"
    }
   ],
   "source": [
    "sample2"
   ]
  },
  {
   "cell_type": "code",
   "execution_count": 4,
   "metadata": {},
   "outputs": [
    {
     "data": {
      "text/plain": [
       "2.34e-14"
      ]
     },
     "execution_count": 4,
     "metadata": {},
     "output_type": "execute_result"
    }
   ],
   "source": [
    "round(response.pvalue,16)"
   ]
  },
  {
   "cell_type": "code",
   "execution_count": null,
   "metadata": {},
   "outputs": [],
   "source": [
    "#Anomly in my dataset\n",
    "\n",
    "1.High Null Value\n",
    "2. Missing COlumns\n",
    "3. Outlier\n",
    "4. Categorical:"
   ]
  },
  {
   "cell_type": "code",
   "execution_count": 5,
   "metadata": {},
   "outputs": [],
   "source": [
    "df = pd.read_csv(\"/config/workspace/artifact/12152022__115329/data_ingestion/dataset/train.csv\")"
   ]
  },
  {
   "cell_type": "code",
   "execution_count": 11,
   "metadata": {},
   "outputs": [
    {
     "data": {
      "text/plain": [
       "(28950, 171)"
      ]
     },
     "execution_count": 11,
     "metadata": {},
     "output_type": "execute_result"
    }
   ],
   "source": [
    "df.shape"
   ]
  },
  {
   "cell_type": "code",
   "execution_count": 9,
   "metadata": {},
   "outputs": [
    {
     "data": {
      "text/plain": [
       "class         0\n",
       "aa_000        0\n",
       "ab_000    22355\n",
       "ac_000     1729\n",
       "ad_000     7377\n",
       "          ...  \n",
       "ee_007      304\n",
       "ee_008      304\n",
       "ee_009      304\n",
       "ef_000     1391\n",
       "eg_000     1391\n",
       "Length: 171, dtype: int64"
      ]
     },
     "execution_count": 9,
     "metadata": {},
     "output_type": "execute_result"
    }
   ],
   "source": [
    "df.isna().sum()"
   ]
  },
  {
   "cell_type": "code",
   "execution_count": 8,
   "metadata": {},
   "outputs": [
    {
     "data": {
      "text/plain": [
       "0"
      ]
     },
     "execution_count": 8,
     "metadata": {},
     "output_type": "execute_result"
    }
   ],
   "source": [
    "len(df.iloc[:,[0]].drop(\"class\",axis=1).columns)"
   ]
  },
  {
   "cell_type": "code",
   "execution_count": 9,
   "metadata": {},
   "outputs": [],
   "source": [
    "from glob import glob"
   ]
  },
  {
   "cell_type": "code",
   "execution_count": 10,
   "metadata": {},
   "outputs": [
    {
     "data": {
      "text/plain": [
       "[]"
      ]
     },
     "execution_count": 10,
     "metadata": {},
     "output_type": "execute_result"
    }
   ],
   "source": [
    "glob(\"/config/workspace/saved_models/1/**/*.pkl\")"
   ]
  },
  {
   "cell_type": "code",
   "execution_count": null,
   "metadata": {},
   "outputs": [],
   "source": [
    "import os\n",
    "\n",
    "os.path.basename(\"saved_mode/1\")"
   ]
  },
  {
   "cell_type": "code",
   "execution_count": null,
   "metadata": {},
   "outputs": [],
   "source": []
  }
 ],
 "metadata": {
  "kernelspec": {
   "display_name": "Python 3.8.10 64-bit",
   "language": "python",
   "name": "python3"
  },
  "language_info": {
   "codemirror_mode": {
    "name": "ipython",
    "version": 3
   },
   "file_extension": ".py",
   "mimetype": "text/x-python",
   "name": "python",
   "nbconvert_exporter": "python",
   "pygments_lexer": "ipython3",
   "version": "3.8.10"
  },
  "orig_nbformat": 4,
  "vscode": {
   "interpreter": {
    "hash": "e7370f93d1d0cde622a1f8e1c04877d8463912d04d973331ad4851f04de6915a"
   }
  }
 },
 "nbformat": 4,
 "nbformat_minor": 2
}
