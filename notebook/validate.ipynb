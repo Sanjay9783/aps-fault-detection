{
 "cells": [
  {
   "cell_type": "code",
   "execution_count": 2,
   "metadata": {},
   "outputs": [],
   "source": [
    "import numpy as np\n",
    "import pandas as pd\n",
    "from scipy import stats\n",
    "\n",
    "rng = np.random.default_rng()\n",
    "sample1 = stats.uniform.rvs(size=100, random_state=rng)\n",
    "sample2 = stats.norm.rvs(size=110, random_state=rng)\n",
    "response = stats.ks_2samp(sample1, sample2)"
   ]
  },
  {
   "cell_type": "code",
   "execution_count": 3,
   "metadata": {},
   "outputs": [
    {
     "data": {
      "text/plain": [
       "array([1.23371296e-01, 3.42522198e-01, 3.47252000e-01, 4.52221934e-01,\n",
       "       3.34428510e-01, 5.06470143e-01, 6.25040180e-02, 9.34078475e-01,\n",
       "       1.50729789e-04, 2.66583515e-01, 6.80883260e-01, 3.78895207e-02,\n",
       "       1.62516128e-01, 5.06188136e-02, 8.28273030e-01, 5.11327707e-01,\n",
       "       8.38603410e-01, 2.16678698e-01, 6.40611952e-01, 4.98551574e-01,\n",
       "       8.92410415e-02, 7.41351407e-01, 2.09794751e-01, 8.45496711e-01,\n",
       "       3.85863927e-01, 3.22592947e-01, 1.14884903e-01, 4.59344416e-01,\n",
       "       2.77173112e-01, 8.02628632e-01, 5.85524954e-02, 6.19721089e-01,\n",
       "       8.67340662e-01, 6.55402201e-01, 2.76577988e-01, 8.21277828e-01,\n",
       "       8.77108269e-01, 8.01485563e-01, 4.08374185e-01, 7.67104905e-01,\n",
       "       2.28304316e-02, 8.59727548e-01, 9.43697020e-01, 9.67639912e-02,\n",
       "       4.60810691e-01, 9.60621188e-01, 5.32870089e-01, 2.64602313e-01,\n",
       "       2.03336058e-01, 2.91030167e-01, 5.27211566e-01, 9.95052955e-01,\n",
       "       9.25614944e-01, 8.47541488e-01, 8.85256433e-01, 6.18388717e-01,\n",
       "       8.21971099e-02, 8.94097569e-01, 6.11199016e-01, 1.98410462e-01,\n",
       "       6.76491480e-02, 4.29489870e-01, 4.56718583e-01, 5.72557658e-01,\n",
       "       6.92843578e-01, 6.62390313e-01, 6.19493605e-01, 8.94683699e-01,\n",
       "       4.25365755e-01, 1.80552445e-01, 9.40820078e-01, 5.85542618e-01,\n",
       "       7.46651534e-01, 7.05705239e-01, 2.69292979e-01, 6.53502971e-01,\n",
       "       5.89157023e-01, 8.13261921e-01, 7.44598780e-01, 3.09963057e-01,\n",
       "       6.20307402e-01, 4.46495373e-01, 5.25596966e-01, 5.38887545e-01,\n",
       "       7.36140538e-01, 2.21649388e-01, 4.83273191e-01, 6.49798104e-01,\n",
       "       9.20167640e-01, 7.19987687e-01, 2.89186079e-01, 9.58203629e-01,\n",
       "       9.19755286e-02, 2.22302314e-01, 5.32447415e-01, 3.10242786e-01,\n",
       "       2.47164974e-01, 7.93994166e-01, 9.14436396e-01, 1.50677623e-01])"
      ]
     },
     "execution_count": 3,
     "metadata": {},
     "output_type": "execute_result"
    }
   ],
   "source": [
    "sample1"
   ]
  },
  {
   "cell_type": "code",
   "execution_count": 4,
   "metadata": {},
   "outputs": [
    {
     "data": {
      "text/plain": [
       "array([-0.36935415,  0.71930434, -1.04856736,  0.21928795, -0.03215186,\n",
       "        1.53733969, -0.28233187,  1.06643457, -0.47966834,  0.14610922,\n",
       "        0.105599  , -2.23813247, -0.2183123 ,  0.54711653, -0.43687109,\n",
       "       -1.87498796, -0.1804788 ,  2.04501363,  1.84194826, -1.01416846,\n",
       "       -0.59553526,  1.29763415, -1.17972322,  1.31360258,  2.07421822,\n",
       "        0.69847117,  0.04585395, -1.73511669,  0.63308075, -1.1189089 ,\n",
       "        1.2682407 , -1.61947203, -0.51621656,  0.80099286, -0.55148148,\n",
       "        1.01322187,  0.26424853, -0.74465848,  0.89267254, -0.64968125,\n",
       "        0.77493095, -0.43044877,  0.02708997,  1.04532173, -0.21627412,\n",
       "        0.13744535,  0.91887813, -1.82911407, -0.58050749, -1.59824136,\n",
       "       -1.63792071,  1.02184993,  0.47519948,  0.89633653, -0.94983897,\n",
       "       -1.4131623 ,  0.64456436, -0.41465802,  1.02818385, -0.43897533,\n",
       "        0.81614617,  0.36903765, -0.14634243,  1.75463032,  0.08032849,\n",
       "        0.81237099, -0.47676235,  0.13392835,  0.13251122,  1.61485964,\n",
       "        0.2761995 , -3.33413687,  1.98030336, -2.12952007, -0.24302659,\n",
       "        0.9508675 , -0.86210441,  1.27294737, -0.29243764,  0.36621048,\n",
       "        0.7917096 ,  0.4622749 ,  0.52128937, -1.8834786 , -0.3392485 ,\n",
       "       -1.03315322,  0.44535576,  0.96589727,  1.04865682,  0.1667518 ,\n",
       "        1.42125809, -0.61048651,  0.9947965 , -1.94382785,  0.22116942,\n",
       "       -0.22544345, -0.59710663,  1.34152262, -2.57088311, -1.01015013,\n",
       "       -1.34476025, -0.32101088, -1.3238399 ,  2.10453881, -1.27768403,\n",
       "        0.54944036,  0.05887888,  1.12559069,  0.03483922, -0.36431329])"
      ]
     },
     "execution_count": 4,
     "metadata": {},
     "output_type": "execute_result"
    }
   ],
   "source": [
    "sample2"
   ]
  },
  {
   "cell_type": "code",
   "execution_count": 5,
   "metadata": {},
   "outputs": [
    {
     "data": {
      "text/plain": [
       "1.041209e-10"
      ]
     },
     "execution_count": 5,
     "metadata": {},
     "output_type": "execute_result"
    }
   ],
   "source": [
    "round(response.pvalue,16)"
   ]
  },
  {
   "cell_type": "code",
   "execution_count": null,
   "metadata": {},
   "outputs": [],
   "source": [
    "#Anomly in my dataset\n",
    "\n",
    "1.High Null Value\n",
    "2. Missing COlumns\n",
    "3. Outlier\n",
    "4. Categorical:"
   ]
  },
  {
   "cell_type": "code",
   "execution_count": 6,
   "metadata": {},
   "outputs": [
    {
     "name": "stdout",
     "output_type": "stream",
     "text": [
      "1 4\n",
      "2 5\n",
      "3 6\n",
      "4 7\n"
     ]
    }
   ],
   "source": [
    "l1=[1,2,3,4]\n",
    "l2=[4,5,6,7]\n",
    "\n",
    "for l1_val,l2_val in zip(l1,l2):\n",
    "    print(l1_val,l2_val)"
   ]
  },
  {
   "cell_type": "code",
   "execution_count": null,
   "metadata": {},
   "outputs": [],
   "source": [
    "df = pd.read_csv(\"/config/workspace/artifact/11272022__185759/data_ingestion/dataset/train.csv\")"
   ]
  },
  {
   "cell_type": "code",
   "execution_count": null,
   "metadata": {},
   "outputs": [],
   "source": [
    "len(df.iloc[:,[0]].drop(\"class\",axis=1).columns)"
   ]
  },
  {
   "cell_type": "code",
   "execution_count": null,
   "metadata": {},
   "outputs": [],
   "source": [
    "from glob import glob"
   ]
  },
  {
   "cell_type": "code",
   "execution_count": null,
   "metadata": {},
   "outputs": [],
   "source": [
    "glob(\"/config/workspace/saved_models/1/**/*.pkl\")"
   ]
  },
  {
   "cell_type": "code",
   "execution_count": null,
   "metadata": {},
   "outputs": [],
   "source": [
    "import os\n",
    "\n",
    "os.path.basename(\"saved_mode/1\")"
   ]
  },
  {
   "cell_type": "code",
   "execution_count": null,
   "metadata": {},
   "outputs": [],
   "source": []
  }
 ],
 "metadata": {
  "kernelspec": {
   "display_name": "Python 3.8.10 64-bit",
   "language": "python",
   "name": "python3"
  },
  "language_info": {
   "codemirror_mode": {
    "name": "ipython",
    "version": 3
   },
   "file_extension": ".py",
   "mimetype": "text/x-python",
   "name": "python",
   "nbconvert_exporter": "python",
   "pygments_lexer": "ipython3",
   "version": "3.8.10"
  },
  "orig_nbformat": 4,
  "vscode": {
   "interpreter": {
    "hash": "e7370f93d1d0cde622a1f8e1c04877d8463912d04d973331ad4851f04de6915a"
   }
  }
 },
 "nbformat": 4,
 "nbformat_minor": 2
}
